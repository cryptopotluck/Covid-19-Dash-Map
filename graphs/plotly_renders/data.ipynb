{
 "cells": [
  {
   "cell_type": "code",
   "execution_count": 18,
   "metadata": {
    "collapsed": true,
    "pycharm": {
     "is_executing": false,
     "name": "#%%\n"
    }
   },
   "outputs": [
    {
     "name": "stdout",
     "text": [
      "  country          last_update  cases  deaths  recovered\n0      CN  2020-03-24T14:16:21  81591    3281      73280\n1      IT  2020-03-24T23:37:15  69176    6820       8326\n2      US  2020-03-24T23:37:31  53740     706        348\n3      ES  2020-03-24T23:37:15  39885    2808       3794\n4      DE  2020-03-24T23:37:15  32986     157       3243\n"
     ],
     "output_type": "stream"
    },
    {
     "data": {
      "text/plain": "[<matplotlib.lines.Line2D at 0x7f988e78f550>]"
     },
     "metadata": {},
     "output_type": "execute_result",
     "execution_count": 18
    },
    {
     "data": {
      "text/plain": "<Figure size 648x216 with 3 Axes>",
      "image/png": "[encoded data removed]"
     },
     "metadata": {
      "needs_background": "light"
     },
     "output_type": "display_data"
    }
   ],
   "source": [
    "# Imports Requirements\n",
    "import requests\n",
    "import matplotlib.pyplot as plt\n",
    "from pandas import DataFrame as df\n",
    "\n",
    "# Get Data\n",
    "r = requests.get('https://covid19-api.org/api/status?date=2020-03-25')\n",
    "\n",
    "# Clean Data\n",
    "r = df(r.json())\n",
    "print(r[0:5])\n",
    "# Cycle Through r['latest'] & Append Data\n",
    "r2 = r[0:5]\n",
    "\n",
    "# Render Graph\n",
    "fig, axs = plt.subplots(1, 3, figsize=(9, 3), sharey=True)\n",
    "axs[0].bar(r2['country'], r2['cases'])\n",
    "axs[1].scatter(r2['country'], r2['cases'])\n",
    "axs[2].plot(r2['country'], r2['cases'])\n"
   ]
  }
 ],
 "metadata": {
  "kernelspec": {
   "display_name": "Python 3",
   "language": "python",
   "name": "python3"
  },
  "language_info": {
   "codemirror_mode": {
    "name": "ipython",
    "version": 2
   },
   "file_extension": ".py",
   "mimetype": "text/x-python",
   "name": "python",
   "nbconvert_exporter": "python",
   "pygments_lexer": "ipython2",
   "version": "2.7.6"
  },
  "pycharm": {
   "stem_cell": {
    "cell_type": "raw",
    "source": [],
    "metadata": {
     "collapsed": false
    }
   }
  }
 },
 "nbformat": 4,
 "nbformat_minor": 0
}